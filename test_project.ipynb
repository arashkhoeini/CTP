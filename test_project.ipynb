{
 "cells": [
  {
   "cell_type": "code",
   "execution_count": 130,
   "metadata": {},
   "outputs": [],
   "source": [
    "import pandas\n",
    "import numpy as np\n",
    "from tensorflow import keras\n",
    "import tensorflow as tf\n",
    "from sklearn import preprocessing\n",
    "from sklearn.linear_model import LogisticRegression\n",
    "from sklearn.model_selection import train_test_split"
   ]
  },
  {
   "cell_type": "code",
   "execution_count": 131,
   "metadata": {},
   "outputs": [],
   "source": [
    "#Reading data into a dataframe object\n",
    "data = pandas.read_csv('train-missings.csv')\n",
    "#Handling missing valuses using linear interpolation\n",
    "data = data.interpolate()\n",
    "data = data.fillna(0)\n",
    "X = data.values[:,1:-1]\n",
    "Y = data.values[:,-1]\n",
    "\n"
   ]
  },
  {
   "cell_type": "code",
   "execution_count": 132,
   "metadata": {
    "scrolled": true
   },
   "outputs": [
    {
     "data": {
      "text/plain": [
       "{1.0, 2.0, 3.0, 4.0, 5.0, 6.0, 7.0}"
      ]
     },
     "execution_count": 132,
     "metadata": {},
     "output_type": "execute_result"
    }
   ],
   "source": [
    "#classes\n",
    "set(Y)"
   ]
  },
  {
   "cell_type": "code",
   "execution_count": 128,
   "metadata": {},
   "outputs": [
    {
     "name": "stdout",
     "output_type": "stream",
     "text": [
      "score is highest without feature p5\n",
      "0.6084656084656085\n",
      "useless features are [5]\n"
     ]
    }
   ],
   "source": [
    "repeat = True\n",
    "useless_features = []\n",
    "while repeat:\n",
    "    scores = []\n",
    "    for i in range(0,14):\n",
    "        data = pandas.read_csv('train-missings.csv')\n",
    "        #Handling missing valuses using linear interpolation\n",
    "        data = data.interpolate()\n",
    "        data = data.fillna(0)\n",
    "        cols = list(range(1,14))\n",
    "        for f in useless_features:\n",
    "            cols.remove(f)\n",
    "        if i > 0 and i in cols:\n",
    "            cols.remove(i)\n",
    "        X = data.values[:,cols]\n",
    "        Y = data.values[:,-1]\n",
    "        #scalling columns\n",
    "        min_max_scaler = preprocessing.MinMaxScaler()\n",
    "        X = min_max_scaler.fit_transform(X)\n",
    "\n",
    "        X_train, X_test, y_train, y_test = train_test_split(X, Y, test_size=0.2, random_state=42)\n",
    "\n",
    "        clf = LogisticRegression(random_state=0, solver='lbfgs', multi_class='multinomial', max_iter=1000).fit(X_train, y_train)\n",
    "        scores.append(clf.score(X_test,y_test))\n",
    "        max_index = scores.index(max(scores))\n",
    "    if max_index > 0:  \n",
    "        print(\"score is highest without feature p{}\".format(max_index))\n",
    "        print(scores[max_index])\n",
    "        useless_features.append(max_index)\n",
    "    else:\n",
    "        print(\"useless features are {}\".format(useless_features))\n",
    "        repeat = False"
   ]
  },
  {
   "cell_type": "code",
   "execution_count": null,
   "metadata": {},
   "outputs": [],
   "source": [
    "cols = list(range(1,14))\n",
    "for f in useless_features:\n",
    "    cols.remove(f)\n",
    "X = data.values[:,cols]\n",
    "\n",
    "#scalling columns\n",
    "min_max_scaler = preprocessing.MinMaxScaler()\n",
    "X = min_max_scaler.fit_transform(X)\n",
    "\n",
    "Y = data.values[:,-1]\n",
    "lb = preprocessing.LabelBinarizer()\n",
    "lb.fit(Y)\n",
    "Y = lb.transform(Y)\n",
    "\n",
    "#Splitting data\n",
    "X_train, X_test, y_train, y_test = train_test_split(X, Y, test_size=0.2, random_state=42)"
   ]
  },
  {
   "cell_type": "code",
   "execution_count": null,
   "metadata": {},
   "outputs": [],
   "source": [
    "neural_net = keras.models.Sequential()\n",
    "\n",
    "neural_net.add(keras.layers.Dense(10, activation='sigmoid', input_shape=(X_train.shape[1],)))\n",
    "#neural_net.add(keras.layers.Dense(10, activation='sigmoid'))\n",
    "neural_net.add(keras.layers.Dense(7, activation='sigmoid'))\n",
    "neural_net.compile(optimizer=tf.train.RMSPropOptimizer(0.001), loss='categorical_crossentropy' , metrics=['accuracy'])\n",
    "neural_net.fit(X_train, y_train,epochs=30)"
   ]
  },
  {
   "cell_type": "code",
   "execution_count": null,
   "metadata": {},
   "outputs": [],
   "source": [
    "neural_net.evaluate(X_test,y_test)"
   ]
  }
 ],
 "metadata": {
  "kernelspec": {
   "display_name": "Python 3",
   "language": "python",
   "name": "python3"
  },
  "language_info": {
   "codemirror_mode": {
    "name": "ipython",
    "version": 3
   },
   "file_extension": ".py",
   "mimetype": "text/x-python",
   "name": "python",
   "nbconvert_exporter": "python",
   "pygments_lexer": "ipython3",
   "version": "3.6.6"
  }
 },
 "nbformat": 4,
 "nbformat_minor": 2
}
