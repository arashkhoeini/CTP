{
 "cells": [
  {
   "cell_type": "code",
   "execution_count": 130,
   "metadata": {},
   "outputs": [],
   "source": [
    "import pandas\n",
    "import numpy as np\n",
    "from tensorflow import keras\n",
    "import tensorflow as tf\n",
    "from sklearn import preprocessing\n",
    "from sklearn.linear_model import LogisticRegression\n",
    "from sklearn.model_selection import train_test_split"
   ]
  },
  {
   "cell_type": "code",
   "execution_count": 131,
   "metadata": {},
   "outputs": [],
   "source": [
    "#Reading data into a dataframe object\n",
    "data = pandas.read_csv('train-missings.csv')\n",
    "#Handling missing valuses using linear interpolation\n",
    "data = data.interpolate()\n",
    "data = data.fillna(0)\n",
    "X = data.values[:,1:-1]\n",
    "Y = data.values[:,-1]\n",
    "\n"
   ]
  },
  {
   "cell_type": "code",
   "execution_count": 132,
   "metadata": {
    "scrolled": true
   },
   "outputs": [
    {
     "data": {
      "text/plain": [
       "{1.0, 2.0, 3.0, 4.0, 5.0, 6.0, 7.0}"
      ]
     },
     "execution_count": 132,
     "metadata": {},
     "output_type": "execute_result"
    }
   ],
   "source": [
    "#classes\n",
    "set(Y)"
   ]
  },
  {
   "cell_type": "code",
   "execution_count": 128,
   "metadata": {},
   "outputs": [
    {
     "name": "stdout",
     "output_type": "stream",
     "text": [
      "score is highest without feature p5\n",
      "0.6084656084656085\n",
      "useless features are [5]\n"
     ]
    }
   ],
   "source": [
    "repeat = True\n",
    "useless_features = []\n",
    "while repeat:\n",
    "    scores = []\n",
    "    for i in range(0,14):\n",
    "        data = pandas.read_csv('train-missings.csv')\n",
    "        #Handling missing valuses using linear interpolation\n",
    "        data = data.interpolate()\n",
    "        data = data.fillna(0)\n",
    "        cols = list(range(1,14))\n",
    "        for f in useless_features:\n",
    "            cols.remove(f)\n",
    "        if i > 0 and i in cols:\n",
    "            cols.remove(i)\n",
    "        X = data.values[:,cols]\n",
    "        Y = data.values[:,-1]\n",
    "        #scalling columns\n",
    "        min_max_scaler = preprocessing.MinMaxScaler()\n",
    "        X = min_max_scaler.fit_transform(X)\n",
    "\n",
    "        X_train, X_test, y_train, y_test = train_test_split(X, Y, test_size=0.2, random_state=42)\n",
    "\n",
    "        clf = LogisticRegression(random_state=0, solver='lbfgs', multi_class='multinomial', max_iter=1000).fit(X_train, y_train)\n",
    "        scores.append(clf.score(X_test,y_test))\n",
    "        max_index = scores.index(max(scores))\n",
    "    if max_index > 0:  \n",
    "        print(\"score is highest without feature p{}\".format(max_index))\n",
    "        print(scores[max_index])\n",
    "        useless_features.append(max_index)\n",
    "    else:\n",
    "        print(\"useless features are {}\".format(useless_features))\n",
    "        repeat = False"
   ]
  },
  {
   "cell_type": "code",
   "execution_count": 136,
   "metadata": {},
   "outputs": [],
   "source": [
    "cols = list(range(1,14))\n",
    "for f in useless_features:\n",
    "    cols.remove(f)\n",
    "X = data.values[:,cols]\n",
    "\n",
    "#scalling columns\n",
    "min_max_scaler = preprocessing.MinMaxScaler()\n",
    "X = min_max_scaler.fit_transform(X)\n",
    "\n",
    "Y = data.values[:,-1]\n",
    "lb = preprocessing.LabelBinarizer()\n",
    "lb.fit(Y)\n",
    "Y = lb.transform(Y)\n",
    "\n",
    "#Splitting data\n",
    "X_train, X_test, y_train, y_test = train_test_split(X, Y, test_size=0.2, random_state=42)"
   ]
  },
  {
   "cell_type": "code",
   "execution_count": 138,
   "metadata": {},
   "outputs": [
    {
     "name": "stdout",
     "output_type": "stream",
     "text": [
      "Epoch 1/30\n",
      "12096/12096 [==============================] - 2s 124us/step - loss: 1.9689 - acc: 0.1567\n",
      "Epoch 2/30\n",
      "12096/12096 [==============================] - 1s 63us/step - loss: 1.9039 - acc: 0.2499\n",
      "Epoch 3/30\n",
      "12096/12096 [==============================] - 1s 65us/step - loss: 1.8254 - acc: 0.3036\n",
      "Epoch 4/30\n",
      "12096/12096 [==============================] - 1s 66us/step - loss: 1.7002 - acc: 0.3501\n",
      "Epoch 5/30\n",
      "12096/12096 [==============================] - 1s 64us/step - loss: 1.5728 - acc: 0.3982\n",
      "Epoch 6/30\n",
      "12096/12096 [==============================] - 1s 66us/step - loss: 1.4804 - acc: 0.4005\n",
      "Epoch 7/30\n",
      "12096/12096 [==============================] - 1s 69us/step - loss: 1.4195 - acc: 0.4139\n",
      "Epoch 8/30\n",
      "12096/12096 [==============================] - 1s 68us/step - loss: 1.3751 - acc: 0.4305\n",
      "Epoch 9/30\n",
      "12096/12096 [==============================] - 1s 74us/step - loss: 1.3397 - acc: 0.4429\n",
      "Epoch 10/30\n",
      "12096/12096 [==============================] - 1s 76us/step - loss: 1.3083 - acc: 0.4552\n",
      "Epoch 11/30\n",
      "12096/12096 [==============================] - 1s 78us/step - loss: 1.2802 - acc: 0.4677\n",
      "Epoch 12/30\n",
      "12096/12096 [==============================] - 1s 97us/step - loss: 1.2550 - acc: 0.4816\n",
      "Epoch 13/30\n",
      "12096/12096 [==============================] - 1s 65us/step - loss: 1.2330 - acc: 0.4902\n",
      "Epoch 14/30\n",
      "12096/12096 [==============================] - 1s 106us/step - loss: 1.2128 - acc: 0.4963\n",
      "Epoch 15/30\n",
      "12096/12096 [==============================] - 1s 85us/step - loss: 1.1953 - acc: 0.5027\n",
      "Epoch 16/30\n",
      "12096/12096 [==============================] - 1s 76us/step - loss: 1.1790 - acc: 0.5079\n",
      "Epoch 17/30\n",
      "12096/12096 [==============================] - 1s 89us/step - loss: 1.1650 - acc: 0.5198\n",
      "Epoch 18/30\n",
      "12096/12096 [==============================] - 2s 190us/step - loss: 1.1515 - acc: 0.5221\n",
      "Epoch 19/30\n",
      "12096/12096 [==============================] - 1s 98us/step - loss: 1.1399 - acc: 0.5245: 0s - loss: 1.1396 - acc: 0\n",
      "Epoch 20/30\n",
      "12096/12096 [==============================] - 1s 105us/step - loss: 1.1284 - acc: 0.5327\n",
      "Epoch 21/30\n",
      "12096/12096 [==============================] - 1s 85us/step - loss: 1.1179 - acc: 0.5349: 0s - loss: 1.1169 - acc: 0.53\n",
      "Epoch 22/30\n",
      "12096/12096 [==============================] - 1s 76us/step - loss: 1.1082 - acc: 0.5410\n",
      "Epoch 23/30\n",
      "12096/12096 [==============================] - 1s 122us/step - loss: 1.0993 - acc: 0.5393\n",
      "Epoch 24/30\n",
      "12096/12096 [==============================] - 1s 121us/step - loss: 1.0910 - acc: 0.5452 0s - loss: 1.0938 -\n",
      "Epoch 25/30\n",
      "12096/12096 [==============================] - 1s 83us/step - loss: 1.0829 - acc: 0.5465\n",
      "Epoch 26/30\n",
      "12096/12096 [==============================] - 1s 124us/step - loss: 1.0756 - acc: 0.5499\n",
      "Epoch 27/30\n",
      "12096/12096 [==============================] - 1s 94us/step - loss: 1.0687 - acc: 0.5516\n",
      "Epoch 28/30\n",
      "12096/12096 [==============================] - 2s 150us/step - loss: 1.0624 - acc: 0.5557\n",
      "Epoch 29/30\n",
      "12096/12096 [==============================] - 2s 130us/step - loss: 1.0559 - acc: 0.5589\n",
      "Epoch 30/30\n",
      "12096/12096 [==============================] - 1s 79us/step - loss: 1.0502 - acc: 0.5625\n"
     ]
    },
    {
     "data": {
      "text/plain": [
       "<tensorflow.python.keras.callbacks.History at 0x130fda048>"
      ]
     },
     "execution_count": 138,
     "metadata": {},
     "output_type": "execute_result"
    }
   ],
   "source": [
    "neural_net = keras.models.Sequential()\n",
    "\n",
    "neural_net.add(keras.layers.Dense(10, activation='sigmoid', input_shape=(X_train.shape[1],)))\n",
    "#neural_net.add(keras.layers.Dense(10, activation='sigmoid'))\n",
    "neural_net.add(keras.layers.Dense(7, activation='sigmoid'))\n",
    "neural_net.compile(optimizer=tf.train.RMSPropOptimizer(0.001), loss='categorical_crossentropy' , metrics=['accuracy'])\n",
    "neural_net.fit(X_train, y_train,epochs=30)"
   ]
  },
  {
   "cell_type": "code",
   "execution_count": null,
   "metadata": {},
   "outputs": [],
   "source": [
    "neural_net.evaluate(X_test,y_test)"
   ]
  }
 ],
 "metadata": {
  "kernelspec": {
   "display_name": "Python 3",
   "language": "python",
   "name": "python3"
  },
  "language_info": {
   "codemirror_mode": {
    "name": "ipython",
    "version": 3
   },
   "file_extension": ".py",
   "mimetype": "text/x-python",
   "name": "python",
   "nbconvert_exporter": "python",
   "pygments_lexer": "ipython3",
   "version": "3.6.6"
  }
 },
 "nbformat": 4,
 "nbformat_minor": 2
}
